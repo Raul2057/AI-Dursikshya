{
 "cells": [
  {
   "cell_type": "markdown",
   "id": "1b937926",
   "metadata": {},
   "source": [
    "# The foundations of Python\n",
    "\n",
    "*Python is a general-purpose interpreted, interactive, object-oriented, and high-level programming language.*"
   ]
  },
  {
   "cell_type": "code",
   "execution_count": 2,
   "id": "c0f146a3",
   "metadata": {
    "collapsed": true,
    "jupyter": {
     "outputs_hidden": true
    }
   },
   "outputs": [
    {
     "name": "stdout",
     "output_type": "stream",
     "text": [
      "Hello World !\n"
     ]
    }
   ],
   "source": [
    "print(\"Hello World !\") # you can write anything inside \"\" now you can try another one  this # is known as comment in python programming"
   ]
  },
  {
   "cell_type": "code",
   "execution_count": 1,
   "id": "db989428-24ff-4ac0-8219-962e551ea86d",
   "metadata": {},
   "outputs": [
    {
     "name": "stdout",
     "output_type": "stream",
     "text": [
      "Hello World\n"
     ]
    }
   ],
   "source": [
    "print('Hello World')"
   ]
  },
  {
   "cell_type": "code",
   "execution_count": 4,
   "id": "42a37a00",
   "metadata": {},
   "outputs": [
    {
     "name": "stdout",
     "output_type": "stream",
     "text": [
      "rahul chaudhary\n",
      " his Name  is rahul chaudhary\n"
     ]
    }
   ],
   "source": [
    "name=\"rahul chaudhary\"\n",
    "  \n",
    "print(name)\n",
    "print(\" his Name  is \" + name)  "
   ]
  },
  {
   "cell_type": "code",
   "execution_count": 5,
   "id": "2b58674c-8591-42e0-b75a-2956b0d4f39f",
   "metadata": {},
   "outputs": [
    {
     "name": "stdout",
     "output_type": "stream",
     "text": [
      "5\n"
     ]
    }
   ],
   "source": [
    "a=2\n",
    "b=3\n",
    "print(a+b)"
   ]
  },
  {
   "cell_type": "code",
   "execution_count": 6,
   "id": "2588f475-5ed6-4c35-9ed1-d6a19aa9a498",
   "metadata": {},
   "outputs": [
    {
     "name": "stdout",
     "output_type": "stream",
     "text": [
      "rahul\n"
     ]
    }
   ],
   "source": [
    "_name=\"rahul\"\n",
    "print(_name)"
   ]
  },
  {
   "cell_type": "markdown",
   "id": "0cbf2aa4",
   "metadata": {},
   "source": [
    "### Variables\n",
    "You don't need to explicitly define the type of the variable.\n",
    "\n",
    "Variables भनेको जानकारी (data) राख्ने भाँडो जस्तै हो। उदाहरणको लागि, तपाईंको पानीको बोतललाई सोच्नुहोस्। बोतल variable हो र भित्रको पानी त्यसले राखेको data हो।\n",
    "\n",
    "In real life, we assign names to things for easy reference. For example:\n",
    "Your name represents you.\n",
    "A roll number represents a student.\n",
    "Similarly, in Python, variables are names we give to data so we can use them later.\n"
   ]
  },
  {
   "cell_type": "code",
   "execution_count": 7,
   "id": "6e840b29",
   "metadata": {},
   "outputs": [],
   "source": [
    "# Assigning a value to a variable\n",
    "\n",
    "age = 2  #integer data type\n",
    "y = 4.5   #floating point number data type\n",
    "z = \"RAHUL\" #collection of character #string data type\n",
    "Z=\"ram\"  #collection of character #  warning capital Z\n"
   ]
  },
  {
   "cell_type": "code",
   "execution_count": 8,
   "id": "b4231bd6-101a-4699-8ea2-5de07f3c6ec4",
   "metadata": {},
   "outputs": [
    {
     "name": "stdout",
     "output_type": "stream",
     "text": [
      "<class 'int'>\n"
     ]
    }
   ],
   "source": [
    "print(type(age))"
   ]
  },
  {
   "cell_type": "code",
   "execution_count": 9,
   "id": "fff0d7a9-3f5f-4a55-a6f6-94988bbdcb65",
   "metadata": {},
   "outputs": [
    {
     "name": "stdout",
     "output_type": "stream",
     "text": [
      "7.3\n"
     ]
    }
   ],
   "source": [
    "a=2.3\n",
    "b=5\n",
    "print(a+b)"
   ]
  },
  {
   "cell_type": "code",
   "execution_count": 10,
   "id": "423d1f11",
   "metadata": {},
   "outputs": [
    {
     "name": "stdout",
     "output_type": "stream",
     "text": [
      "<class 'int'>\n"
     ]
    }
   ],
   "source": [
    "print(type(age))"
   ]
  },
  {
   "cell_type": "code",
   "execution_count": 11,
   "id": "cbd79b73",
   "metadata": {},
   "outputs": [
    {
     "name": "stdout",
     "output_type": "stream",
     "text": [
      "<class 'float'>\n"
     ]
    }
   ],
   "source": [
    "print(type(y))"
   ]
  },
  {
   "cell_type": "code",
   "execution_count": 14,
   "id": "7be4ebb6",
   "metadata": {},
   "outputs": [
    {
     "data": {
      "text/plain": [
       "str"
      ]
     },
     "execution_count": 14,
     "metadata": {},
     "output_type": "execute_result"
    }
   ],
   "source": [
    "type(z\n",
    "    )"
   ]
  },
  {
   "cell_type": "code",
   "execution_count": 15,
   "id": "2852c7a2",
   "metadata": {},
   "outputs": [
    {
     "data": {
      "text/plain": [
       "str"
      ]
     },
     "execution_count": 15,
     "metadata": {},
     "output_type": "execute_result"
    }
   ],
   "source": [
    "type(Z)"
   ]
  },
  {
   "cell_type": "code",
   "execution_count": 16,
   "id": "fc8942ed-5878-42f9-8b06-9abc2c1acc47",
   "metadata": {},
   "outputs": [
    {
     "name": "stdout",
     "output_type": "stream",
     "text": [
      "2\n"
     ]
    }
   ],
   "source": [
    "print(age)"
   ]
  },
  {
   "cell_type": "code",
   "execution_count": 17,
   "id": "2ddc796e-e058-46fd-b9a1-6aa83ef1f9fe",
   "metadata": {},
   "outputs": [
    {
     "name": "stdout",
     "output_type": "stream",
     "text": [
      "4.5\n"
     ]
    }
   ],
   "source": [
    "print(y)"
   ]
  },
  {
   "cell_type": "code",
   "execution_count": 18,
   "id": "e83e98d4-55f5-41c1-a94f-824a809acf41",
   "metadata": {},
   "outputs": [
    {
     "name": "stdout",
     "output_type": "stream",
     "text": [
      "RAHUL\n"
     ]
    }
   ],
   "source": [
    "print(z)"
   ]
  },
  {
   "cell_type": "code",
   "execution_count": 19,
   "id": "a0bb5b02-c168-45c6-a427-13558bf42fb4",
   "metadata": {},
   "outputs": [
    {
     "name": "stdout",
     "output_type": "stream",
     "text": [
      "ram\n"
     ]
    }
   ],
   "source": [
    "print(Z)"
   ]
  },
  {
   "cell_type": "code",
   "execution_count": null,
   "id": "662d6c2e-d783-4b73-a13c-3bd0cd78ef40",
   "metadata": {},
   "outputs": [],
   "source": []
  },
  {
   "cell_type": "code",
   "execution_count": null,
   "id": "7ce1db9e-7390-4ca1-a698-d5af6e1f7b25",
   "metadata": {},
   "outputs": [],
   "source": []
  },
  {
   "cell_type": "code",
   "execution_count": 2,
   "id": "bf2bfbdd",
   "metadata": {},
   "outputs": [],
   "source": [
    "c = complex(4,5)"
   ]
  },
  {
   "cell_type": "code",
   "execution_count": 3,
   "id": "4493d526-e08c-4b4d-be36-547bfcbe1c8c",
   "metadata": {},
   "outputs": [
    {
     "data": {
      "text/plain": [
       "complex"
      ]
     },
     "execution_count": 3,
     "metadata": {},
     "output_type": "execute_result"
    }
   ],
   "source": [
    "type(c)"
   ]
  },
  {
   "cell_type": "code",
   "execution_count": null,
   "id": "f35117d6-7a0b-4790-a54d-8aad7cd09072",
   "metadata": {},
   "outputs": [],
   "source": []
  },
  {
   "cell_type": "code",
   "execution_count": 4,
   "id": "5808d19c",
   "metadata": {},
   "outputs": [
    {
     "data": {
      "text/plain": [
       "complex"
      ]
     },
     "execution_count": 4,
     "metadata": {},
     "output_type": "execute_result"
    }
   ],
   "source": [
    "type(c)"
   ]
  },
  {
   "cell_type": "code",
   "execution_count": 6,
   "id": "82b6fc9a",
   "metadata": {},
   "outputs": [
    {
     "data": {
      "text/plain": [
       "(4+5j)"
      ]
     },
     "execution_count": 6,
     "metadata": {},
     "output_type": "execute_result"
    }
   ],
   "source": [
    "c"
   ]
  },
  {
   "cell_type": "code",
   "execution_count": 29,
   "id": "b75d5b3e",
   "metadata": {},
   "outputs": [
    {
     "data": {
      "text/plain": [
       "4.0"
      ]
     },
     "execution_count": 29,
     "metadata": {},
     "output_type": "execute_result"
    }
   ],
   "source": [
    "c.real"
   ]
  },
  {
   "cell_type": "code",
   "execution_count": 30,
   "id": "3dadf8c5",
   "metadata": {},
   "outputs": [
    {
     "data": {
      "text/plain": [
       "5.0"
      ]
     },
     "execution_count": 30,
     "metadata": {},
     "output_type": "execute_result"
    }
   ],
   "source": [
    "c.imag"
   ]
  },
  {
   "cell_type": "code",
   "execution_count": 31,
   "id": "521f6dc2",
   "metadata": {},
   "outputs": [],
   "source": [
    "a = 4+5j"
   ]
  },
  {
   "cell_type": "code",
   "execution_count": 23,
   "id": "ba2213ac",
   "metadata": {},
   "outputs": [],
   "source": [
    "b = 3+2j"
   ]
  },
  {
   "cell_type": "code",
   "execution_count": 24,
   "id": "a41239f4",
   "metadata": {},
   "outputs": [
    {
     "name": "stdout",
     "output_type": "stream",
     "text": [
      "(7+7j)\n"
     ]
    }
   ],
   "source": [
    "print(a+b)"
   ]
  },
  {
   "cell_type": "code",
   "execution_count": 25,
   "id": "2929c2d4",
   "metadata": {},
   "outputs": [
    {
     "name": "stdout",
     "output_type": "stream",
     "text": [
      "12\n",
      "-2\n"
     ]
    }
   ],
   "source": [
    "a=5\n",
    "b=7\n",
    "print(a+b)\n",
    "print(a-b)"
   ]
  },
  {
   "cell_type": "markdown",
   "id": "e5350365",
   "metadata": {},
   "source": [
    "### Swap variables"
   ]
  },
  {
   "cell_type": "code",
   "execution_count": null,
   "id": "0b52b6a1",
   "metadata": {},
   "outputs": [],
   "source": [
    "a = 5\n",
    "b = 10\n",
    "\n"
   ]
  },
  {
   "cell_type": "code",
   "execution_count": null,
   "id": "c07add28-855c-4328-a709-3187b85ad166",
   "metadata": {},
   "outputs": [],
   "source": [
    "print(a)"
   ]
  },
  {
   "cell_type": "code",
   "execution_count": null,
   "id": "1b1b536d-4a80-4f0d-92d4-32259dcbd79c",
   "metadata": {},
   "outputs": [],
   "source": [
    "print(b)"
   ]
  },
  {
   "cell_type": "code",
   "execution_count": null,
   "id": "a26233fb",
   "metadata": {},
   "outputs": [],
   "source": [
    "a,b = b,a  #= is assignment operator"
   ]
  },
  {
   "cell_type": "code",
   "execution_count": null,
   "id": "dfbcd6b0",
   "metadata": {},
   "outputs": [],
   "source": [
    "print(a)"
   ]
  },
  {
   "cell_type": "code",
   "execution_count": null,
   "id": "7de35d68",
   "metadata": {},
   "outputs": [],
   "source": [
    "b"
   ]
  },
  {
   "cell_type": "markdown",
   "id": "d9890f70",
   "metadata": {},
   "source": [
    "### Arithmetic Operators"
   ]
  },
  {
   "cell_type": "code",
   "execution_count": null,
   "id": "4442dcdb-acea-4092-9048-566c6ce36e27",
   "metadata": {},
   "outputs": [],
   "source": [
    "Operator\tDescription (विवरण)\tExample (उदाहरण)\n",
    "+\tAddition (जोड)\t5 + 3\n",
    "-\tSubtraction (घटाउ)\t10 - 6\n",
    "*\tMultiplication (गुणन)\t4 * 5 \n",
    "/\tDivision (भाग)\t8 / 2 \n",
    "//\tFloor Division (पूर्णांक भाग)\t8 // 3 \n",
    "%\tModulus (बाँकी निकाल्ने)\t7 % 3    ,8%3 ,16%5,5%16;\n",
    "**\tExponentiation (घातांक)\t2 ** 3 = 8  3**3 "
   ]
  },
  {
   "cell_type": "code",
   "execution_count": 7,
   "id": "ec079891-a9c6-4f64-84fc-cfd92cbe92bd",
   "metadata": {},
   "outputs": [
    {
     "data": {
      "text/plain": [
       "1"
      ]
     },
     "execution_count": 7,
     "metadata": {},
     "output_type": "execute_result"
    }
   ],
   "source": [
    "7%3"
   ]
  },
  {
   "cell_type": "code",
   "execution_count": null,
   "id": "a4f77950-d5f5-46ce-bdae-54ac7e04c178",
   "metadata": {},
   "outputs": [],
   "source": [
    "a=9\n",
    "b=8"
   ]
  },
  {
   "cell_type": "code",
   "execution_count": null,
   "id": "71105254-e255-448d-a4e3-336ae8b6cfbf",
   "metadata": {},
   "outputs": [],
   "source": [
    "print(a+b)"
   ]
  },
  {
   "cell_type": "code",
   "execution_count": null,
   "id": "bf72f9c0-4892-404a-b534-b0dad95e6e58",
   "metadata": {},
   "outputs": [],
   "source": [
    "3**3"
   ]
  },
  {
   "cell_type": "code",
   "execution_count": 1,
   "id": "cd7fc4de-a0a2-41db-a4e7-4951190993f5",
   "metadata": {},
   "outputs": [
    {
     "data": {
      "text/html": [
       "<img src=\"https://miro.medium.com/v2/resize:fit:936/1*HSxX7Zga9I6wyC7F4PiU8g.png\"/>"
      ],
      "text/plain": [
       "<IPython.core.display.Image object>"
      ]
     },
     "metadata": {},
     "output_type": "display_data"
    }
   ],
   "source": [
    "from IPython.display import Image, display\n",
    "\n",
    "image_url = \"https://miro.medium.com/v2/resize:fit:936/1*HSxX7Zga9I6wyC7F4PiU8g.png\"\n",
    "display(Image(url=image_url))\n"
   ]
  },
  {
   "cell_type": "code",
   "execution_count": 32,
   "id": "e5f0ab35",
   "metadata": {},
   "outputs": [
    {
     "data": {
      "text/plain": [
       "2"
      ]
     },
     "execution_count": 32,
     "metadata": {},
     "output_type": "execute_result"
    }
   ],
   "source": [
    "8//3\n"
   ]
  },
  {
   "cell_type": "code",
   "execution_count": null,
   "id": "f464d719-a0ca-4a26-8f39-ebb022879156",
   "metadata": {},
   "outputs": [],
   "source": []
  },
  {
   "cell_type": "code",
   "execution_count": null,
   "id": "99791ee3",
   "metadata": {},
   "outputs": [],
   "source": [
    "a=10\n",
    "b=7\n",
    "print(a+b)\n",
    "print(a-b)"
   ]
  },
  {
   "cell_type": "code",
   "execution_count": null,
   "id": "5333dc85",
   "metadata": {},
   "outputs": [],
   "source": []
  },
  {
   "cell_type": "code",
   "execution_count": null,
   "id": "427680e4",
   "metadata": {},
   "outputs": [],
   "source": []
  },
  {
   "cell_type": "code",
   "execution_count": null,
   "id": "0c1bc4b2",
   "metadata": {},
   "outputs": [],
   "source": [
    "a*b"
   ]
  },
  {
   "cell_type": "code",
   "execution_count": null,
   "id": "dc490fd8",
   "metadata": {},
   "outputs": [],
   "source": [
    "a=10\n",
    "b=7\n",
    "print(a/b)\n",
    "print(a//b)\n",
    "print(a%b)"
   ]
  },
  {
   "cell_type": "code",
   "execution_count": null,
   "id": "b95316ca",
   "metadata": {},
   "outputs": [],
   "source": [
    "a = 3\n",
    "b = 2"
   ]
  },
  {
   "cell_type": "code",
   "execution_count": null,
   "id": "cb3a2fd3",
   "metadata": {},
   "outputs": [],
   "source": [
    "a%b # this is mod operation which is the remainder"
   ]
  },
  {
   "cell_type": "code",
   "execution_count": null,
   "id": "75bc27ca-0840-4ac3-abcb-3c23d7eb3f0a",
   "metadata": {},
   "outputs": [],
   "source": [
    "a=3\n",
    "b=2\n",
    "print(a**b) # exponent"
   ]
  },
  {
   "cell_type": "code",
   "execution_count": null,
   "id": "12675fc2",
   "metadata": {},
   "outputs": [],
   "source": []
  },
  {
   "cell_type": "code",
   "execution_count": null,
   "id": "07d151de",
   "metadata": {},
   "outputs": [],
   "source": [
    "a//b #floor division"
   ]
  },
  {
   "cell_type": "code",
   "execution_count": null,
   "id": "f8aaccbe-add6-4c23-affa-7151fc495c46",
   "metadata": {},
   "outputs": [],
   "source": [
    "b//a"
   ]
  },
  {
   "cell_type": "code",
   "execution_count": null,
   "id": "7828dadf-3220-4c13-af77-ac190793dc43",
   "metadata": {},
   "outputs": [],
   "source": [
    "a = 3\n",
    "b = 2\n",
    "b%a"
   ]
  },
  {
   "cell_type": "markdown",
   "id": "073280a2",
   "metadata": {},
   "source": [
    "# String operations in Python\n",
    "### strings is a sequence of characters enclosed in single, double, or triple quotes.\n",
    "\n",
    "#####  Python provides many built-in methods and techniques to manipulate strings easily.\n"
   ]
  },
  {
   "cell_type": "code",
   "execution_count": null,
   "id": "037572f1-df03-436b-9416-095e0bec0ebb",
   "metadata": {},
   "outputs": [],
   "source": []
  },
  {
   "cell_type": "markdown",
   "id": "b5c9a7f6-7cd6-4644-af47-aa098bda92fc",
   "metadata": {},
   "source": [
    "# String Creation\n",
    "\n"
   ]
  },
  {
   "cell_type": "code",
   "execution_count": 2,
   "id": "00e09c73-5b6e-477f-936e-b3f503276f17",
   "metadata": {},
   "outputs": [],
   "source": [
    "# Single quotes\n",
    "string1 = 'Hello'\n",
    "# Double quotes\n",
    "string2 = \"23\"\n",
    "# Triple quotes (multiline strings)\n",
    "string3 = '''This\n",
    "is a\n",
    "multiline string.'''\n"
   ]
  },
  {
   "cell_type": "code",
   "execution_count": null,
   "id": "4cf80757-bf77-4caa-907f-34848605ea09",
   "metadata": {},
   "outputs": [],
   "source": [
    "print(string1)"
   ]
  },
  {
   "cell_type": "code",
   "execution_count": 3,
   "id": "9b318131-e2f3-4efc-9abc-a6042ee88005",
   "metadata": {},
   "outputs": [
    {
     "name": "stdout",
     "output_type": "stream",
     "text": [
      "23\n"
     ]
    }
   ],
   "source": [
    "print(string2)"
   ]
  },
  {
   "cell_type": "code",
   "execution_count": 4,
   "id": "cb315d01-2437-4faf-84b5-c5b8635955f9",
   "metadata": {},
   "outputs": [
    {
     "name": "stdout",
     "output_type": "stream",
     "text": [
      "<class 'str'>\n"
     ]
    }
   ],
   "source": [
    "print(type(string2))\n"
   ]
  },
  {
   "cell_type": "code",
   "execution_count": null,
   "id": "8074d380-5ddc-4b1b-bc51-0ecb58b1d162",
   "metadata": {},
   "outputs": [],
   "source": [
    "print(string3)"
   ]
  },
  {
   "cell_type": "code",
   "execution_count": 1,
   "id": "a07b479e",
   "metadata": {},
   "outputs": [
    {
     "name": "stdout",
     "output_type": "stream",
     "text": [
      "ram said 'she is beautiful' and she smiled\n"
     ]
    }
   ],
   "source": [
    "print(\"ram said 'she is beautiful' and she smiled\")"
   ]
  },
  {
   "cell_type": "markdown",
   "id": "ffcbdafb",
   "metadata": {},
   "source": []
  },
  {
   "cell_type": "code",
   "execution_count": null,
   "id": "75d2f5cd-2f5b-4abe-bb78-f18085a1b200",
   "metadata": {},
   "outputs": [],
   "source": [
    "st"
   ]
  },
  {
   "cell_type": "markdown",
   "id": "18665bde-2078-445c-8347-99272b2a8bba",
   "metadata": {},
   "source": [
    "### Accessing Characters\n"
   ]
  },
  {
   "cell_type": "code",
   "execution_count": 5,
   "id": "75bddeca-90c4-4bd4-8d12-bc7ce091a905",
   "metadata": {},
   "outputs": [
    {
     "name": "stdout",
     "output_type": "stream",
     "text": [
      "<class 'int'>\n",
      "<class 'str'>\n"
     ]
    }
   ],
   "source": [
    "a=1\n",
    "b=\"one\"\n",
    "print(type(a))\n",
    "print(type(b))"
   ]
  },
  {
   "cell_type": "code",
   "execution_count": null,
   "id": "a9ec311c",
   "metadata": {},
   "outputs": [],
   "source": []
  },
  {
   "cell_type": "code",
   "execution_count": null,
   "id": "5c91473a-7f04-4898-9a6b-7211c8a9c4f0",
   "metadata": {},
   "outputs": [],
   "source": [
    "word = \"Python\"  # this is assignment of string python in word named variable\n",
    "print(word[0])   # Output: P\n",
    "print(word[-1])  # Output: n (last character)\n",
    "print(word[-3])"
   ]
  },
  {
   "cell_type": "code",
   "execution_count": 7,
   "id": "0e396866-b5d8-454e-bd0f-061bc673b8bd",
   "metadata": {},
   "outputs": [
    {
     "name": "stdout",
     "output_type": "stream",
     "text": [
      "h\n",
      "[15]\n"
     ]
    }
   ],
   "source": [
    "check=\"hal@uhu\"\n",
    "print(check[-7])\n",
    "print(\n",
    "    [15])"
   ]
  },
  {
   "cell_type": "markdown",
   "id": "f084946a-1d95-465c-a4d5-fafdd073c605",
   "metadata": {},
   "source": [
    "# String Methods\n"
   ]
  },
  {
   "cell_type": "markdown",
   "id": "f60ee548-e94e-4596-8506-52a5e1d7357a",
   "metadata": {},
   "source": [
    "### Changing Case"
   ]
  },
  {
   "cell_type": "code",
   "execution_count": 8,
   "id": "61c04ba3-c8ca-4801-b589-8a4131a6727f",
   "metadata": {},
   "outputs": [
    {
     "name": "stdout",
     "output_type": "stream",
     "text": [
      "hello python \n",
      "HELLO PYTHON \n",
      "Hello python \n",
      "Hello Python \n"
     ]
    }
   ],
   "source": [
    "text = \"Hello Python \"\n",
    "print(text.lower())   \n",
    "print(text.upper())   \n",
    "print(text.capitalize())  \n",
    "print(text.title())   \n"
   ]
  },
  {
   "cell_type": "markdown",
   "id": "df3535e9-831f-4e54-9134-f844ac51361f",
   "metadata": {},
   "source": [
    "### Checking Conditions"
   ]
  },
  {
   "cell_type": "markdown",
   "id": "e1324009-29e8-49dc-a411-7c17c73e5403",
   "metadata": {},
   "source": [
    "### Searching and Replacing"
   ]
  },
  {
   "cell_type": "code",
   "execution_count": 17,
   "id": "673d2835-bd26-40d6-85e7-3e30ca028eea",
   "metadata": {},
   "outputs": [
    {
     "name": "stdout",
     "output_type": "stream",
     "text": [
      "10\n",
      "Python is awesome.\n"
     ]
    }
   ],
   "source": [
    "sentence = \"Python is fun.\"\n",
    "print(sentence.find('fun'))  # Output: 10\n",
    "print(sentence.replace(\"fun\", \"awesome\"))  # Output: Python is awesome.\n",
    "\n"
   ]
  },
  {
   "cell_type": "code",
   "execution_count": 15,
   "id": "b6be0297-17ea-46ff-94b7-d654d9aec82d",
   "metadata": {},
   "outputs": [
    {
     "name": "stdout",
     "output_type": "stream",
     "text": [
      "Python is fun.\n"
     ]
    }
   ],
   "source": [
    "print(sentence)"
   ]
  },
  {
   "cell_type": "markdown",
   "id": "480de567-b9ed-49e9-8968-a1cb7e166b21",
   "metadata": {},
   "source": [
    "### Splitting and Joining\n"
   ]
  },
  {
   "cell_type": "code",
   "execution_count": 22,
   "id": "a5246f40-8be4-44ef-a332-6874b797a348",
   "metadata": {},
   "outputs": [
    {
     "name": "stdout",
     "output_type": "stream",
     "text": [
      "['Python', 'is', 'fun']\n",
      "Python+is+fun\n"
     ]
    }
   ],
   "source": [
    "sentence = \"Python is fun\"\n",
    "words = sentence.split(\" \")  # Splits by spaces\n",
    "print(words)  # Output: ['Python', 'is', 'fun']\n",
    "\n",
    "joined = \"-\".join(words)\n",
    "print(joined)  # Output: Python-is-fun\n"
   ]
  },
  {
   "cell_type": "markdown",
   "id": "f7574038-b50c-4760-8280-371a24386d3b",
   "metadata": {},
   "source": [
    " ### String Concatenation\n",
    "##### Combine strings using the + operator or f-strings."
   ]
  },
  {
   "cell_type": "code",
   "execution_count": 23,
   "id": "965c786d-cbfa-4402-a7af-7a7a05a6fd5a",
   "metadata": {},
   "outputs": [
    {
     "name": "stdout",
     "output_type": "stream",
     "text": [
      "23\n",
      "<class 'str'>\n"
     ]
    },
    {
     "ename": "TypeError",
     "evalue": "unsupported operand type(s) for -: 'str' and 'int'",
     "output_type": "error",
     "traceback": [
      "\u001b[1;31m---------------------------------------------------------------------------\u001b[0m",
      "\u001b[1;31mTypeError\u001b[0m                                 Traceback (most recent call last)",
      "Cell \u001b[1;32mIn[23], line 4\u001b[0m\n\u001b[0;32m      2\u001b[0m \u001b[38;5;28mprint\u001b[39m(result)\n\u001b[0;32m      3\u001b[0m \u001b[38;5;28mprint\u001b[39m(\u001b[38;5;28mtype\u001b[39m(result))\n\u001b[1;32m----> 4\u001b[0m \u001b[38;5;28mprint\u001b[39m(result\u001b[38;5;241m-\u001b[39m\u001b[38;5;241m2\u001b[39m)\n",
      "\u001b[1;31mTypeError\u001b[0m: unsupported operand type(s) for -: 'str' and 'int'"
     ]
    }
   ],
   "source": [
    "result=('2'+\"3\")   # this is known variable assignment\n",
    "print(result)\n",
    "print(type(result))\n",
    "print(result-2)"
   ]
  },
  {
   "cell_type": "code",
   "execution_count": 24,
   "id": "875fa472-91ee-474b-acad-fd33483f7a7f",
   "metadata": {},
   "outputs": [
    {
     "name": "stdout",
     "output_type": "stream",
     "text": [
      "23\n"
     ]
    }
   ],
   "source": [
    "new_result=int(result) \n",
    "print(new_result)#type casting or changing the type of data"
   ]
  },
  {
   "cell_type": "code",
   "execution_count": 25,
   "id": "02cc714d-b06d-4d5b-9998-360f128a6b32",
   "metadata": {},
   "outputs": [
    {
     "name": "stdout",
     "output_type": "stream",
     "text": [
      "21\n"
     ]
    }
   ],
   "source": [
    "change=new_result-2\n",
    "print(change)"
   ]
  },
  {
   "cell_type": "code",
   "execution_count": 26,
   "id": "7f034304-2d48-451f-a84a-df4a482164c5",
   "metadata": {},
   "outputs": [
    {
     "name": "stdout",
     "output_type": "stream",
     "text": [
      "Hello ,John !\n"
     ]
    }
   ],
   "source": [
    "name = \"John\"\n",
    "greeting = \"Hello ,\" + name  + \" !\"\n",
    "print(greeting)  # Output: Hello, John!"
   ]
  },
  {
   "cell_type": "code",
   "execution_count": 27,
   "id": "045dcb59-9903-4056-9c76-d306f6600916",
   "metadata": {},
   "outputs": [
    {
     "name": "stdout",
     "output_type": "stream",
     "text": [
      "John  is 31 years  old after 10 years.\n"
     ]
    }
   ],
   "source": [
    "# Using f-strings\n",
    "age = 21\n",
    "print(f\"{name}  is {age+10} years  old after 10 years.\")  # Output: John is 25 years old."
   ]
  },
  {
   "cell_type": "code",
   "execution_count": null,
   "id": "b50eaedb",
   "metadata": {},
   "outputs": [],
   "source": [
    "ram_age=26\n",
    "shyam_age=36\n",
    "print(f\" shyam is {shyam_age-ram_age} years elder than ram\")"
   ]
  },
  {
   "cell_type": "markdown",
   "id": "15dd98ae-a64e-43fc-b7b0-fed7ec0fd2a5",
   "metadata": {},
   "source": [
    "### Escape Characters\n",
    "#### Use a backslash \\ for special characters.\n",
    "\n"
   ]
  },
  {
   "cell_type": "code",
   "execution_count": null,
   "id": "8d8f7191-0ad5-4883-a74f-c7f0a3ed6583",
   "metadata": {},
   "outputs": [],
   "source": [
    "print(\"He said, \\\"Python is great!\\\"\")  \"\\# Output: He said, \"Python is great!\"\n",
    "print(\"Line1\\nLine2\")  # Output:    new line\n",
    "                       #         Line2\n"
   ]
  },
  {
   "cell_type": "markdown",
   "id": "2aff7665-d568-4f02-a1fc-03db25d9f70c",
   "metadata": {},
   "source": [
    "# Common String Operations"
   ]
  },
  {
   "cell_type": "markdown",
   "id": "ffeb7a0c-4806-444f-8b54-78f32291792b",
   "metadata": {},
   "source": [
    "### Removing Whitespaces\n"
   ]
  },
  {
   "cell_type": "code",
   "execution_count": 1,
   "id": "2412796e-5f28-40ea-bddb-1070f1d21e24",
   "metadata": {},
   "outputs": [
    {
     "name": "stdout",
     "output_type": "stream",
     "text": [
      ",,,,,csnidcsi\n",
      ",,,,,csnidcsi   \n",
      "   ,,,,,csnidcsi\n"
     ]
    }
   ],
   "source": [
    "text = \"   ,,,,,csnidcsi   \"\n",
    "print(text.strip())  # Output: \"Hello World\"\n",
    "print(text.lstrip())  # Output: \"Hello World   \"\n",
    "print(text.rstrip())  # Output: \"   Hello World\"\n"
   ]
  },
  {
   "cell_type": "markdown",
   "id": "967a2a59-8d34-4658-9e4b-8d9d78c7b993",
   "metadata": {},
   "source": [
    "### Counting Occurrences\n",
    "\n"
   ]
  },
  {
   "cell_type": "code",
   "execution_count": 31,
   "id": "b406a079-542e-4ad1-b705-3545cc1e5f75",
   "metadata": {},
   "outputs": [
    {
     "name": "stdout",
     "output_type": "stream",
     "text": [
      "3\n"
     ]
    }
   ],
   "source": [
    "sentence = \"Python is fun. Python is love. Python is challenging.\"\n",
    "print(sentence.count(\"Python\"))  # Output: 5\n",
    "\n"
   ]
  },
  {
   "cell_type": "markdown",
   "id": "f0abeeaa-f614-4279-82f9-b1117e32f193",
   "metadata": {},
   "source": [
    "### Checking Start/End\n"
   ]
  },
  {
   "cell_type": "code",
   "execution_count": null,
   "id": "efb94cc7-3399-43c9-b4e9-2eda2f313d31",
   "metadata": {},
   "outputs": [],
   "source": [
    "filename = \"report.pdf\"\n",
    "print(filename.startswith(\"report\"))  # Output: True\n",
    "print(filename.endswith(\".pdf\"))      # Output: True\n"
   ]
  },
  {
   "cell_type": "code",
   "execution_count": null,
   "id": "dc95964b-d947-44fb-8adf-ab65266049ea",
   "metadata": {},
   "outputs": [],
   "source": []
  },
  {
   "cell_type": "markdown",
   "id": "dee27b9d",
   "metadata": {},
   "source": [
    "# Indexing \n",
    "###### Indexing is a way to access individual elements in sequences such as strings, lists, and tuples. Every element in a sequence is assigned an index, starting from 0."
   ]
  },
  {
   "cell_type": "markdown",
   "id": "bbc0d92b-ab5c-4e8e-a2c1-29c3754655cc",
   "metadata": {},
   "source": [
    "## Key Points\n",
    "##### Indexing starts from 0 (zero-based indexing).\n",
    "##### Negative indices allow access to elements from the end of the sequence.\n",
    "##### Indexing works with many sequence types: strings, lists, tuples, etc.\n"
   ]
  },
  {
   "cell_type": "markdown",
   "id": "d6573062-b7aa-4828-9a11-f5862fd28a21",
   "metadata": {},
   "source": [
    "### Positive Indexing\n",
    "##### Use positive integers to access elements from the beginning of the sequence."
   ]
  },
  {
   "cell_type": "code",
   "execution_count": null,
   "id": "b4488a94-01e0-4e58-9604-a02ac08ce540",
   "metadata": {},
   "outputs": [],
   "source": [
    "sequence = \"Python\"\n",
    "print(sequence[0])# Output: P (1st character)\n",
    "print(sequence[3])# Output: h (4th character)\n"
   ]
  },
  {
   "cell_type": "code",
   "execution_count": null,
   "id": "df759556-9b19-4701-a4a8-67393f5ad4b5",
   "metadata": {},
   "outputs": [],
   "source": [
    "from IPython.display import Image, display\n",
    "\n",
    "image_url = \"https://python-tricks.com/wp-content/uploads/2019/08/Positive-and-Negative-Indexing.jpg\"\n",
    "display(Image(url=image_url))\n"
   ]
  },
  {
   "cell_type": "markdown",
   "id": "67fb0e2a-95ab-4673-afc8-6f4b3daa96a0",
   "metadata": {},
   "source": [
    "### Negative Indexing\n",
    "##### Use negative integers to access elements from the end of the sequence."
   ]
  },
  {
   "cell_type": "code",
   "execution_count": null,
   "id": "344f0957-929b-4eee-9d52-b873dcbb146d",
   "metadata": {},
   "outputs": [],
   "source": [
    "sequence = \"Python\"\n",
    "print(sequence[-1])  # Output: n (last character)\n",
    "print(sequence[-3])  # Output: h (3rd character from the end)\n",
    "print(sequence[6])\n"
   ]
  },
  {
   "cell_type": "markdown",
   "id": "5c8c0b30-810f-4bef-b69c-2979fbb109ad",
   "metadata": {},
   "source": [
    "### Indexing with Lists\n",
    "##### Indexing works similarly with lists and other sequences."
   ]
  },
  {
   "cell_type": "code",
   "execution_count": null,
   "id": "a3f8b502-9a20-4ca0-9d3b-dc11305f712f",
   "metadata": {},
   "outputs": [],
   "source": [
    "fruits = [\"apple\",\"2.5\", \"banana\", \"cherry\", \"date\"]\n",
    "print(fruits[2][2])  \n",
    "print(fruits[-1]) \n",
    "print(fruits[1][0])\n"
   ]
  },
  {
   "cell_type": "markdown",
   "id": "ad273cf9-00e0-42e2-b89c-4429bceeddb9",
   "metadata": {},
   "source": [
    "### IndexError\n",
    "##### If you try to access an index that is out of range, Python raises an IndexError."
   ]
  },
  {
   "cell_type": "code",
   "execution_count": null,
   "id": "11337bb2-3e46-42a2-b6e1-7b04ae2d1251",
   "metadata": {},
   "outputs": [],
   "source": [
    "numbers = [1, 2,3]\n",
    "print(numbers[3])  # IndexError: list index out of range\n",
    "\n"
   ]
  },
  {
   "cell_type": "code",
   "execution_count": null,
   "id": "39ab1a58-16fa-4f5f-b994-bded397fe303",
   "metadata": {},
   "outputs": [],
   "source": []
  }
 ],
 "metadata": {
  "kernelspec": {
   "display_name": "Python 3 (ipykernel)",
   "language": "python",
   "name": "python3"
  },
  "language_info": {
   "codemirror_mode": {
    "name": "ipython",
    "version": 3
   },
   "file_extension": ".py",
   "mimetype": "text/x-python",
   "name": "python",
   "nbconvert_exporter": "python",
   "pygments_lexer": "ipython3",
   "version": "3.13.5"
  }
 },
 "nbformat": 4,
 "nbformat_minor": 5
}
