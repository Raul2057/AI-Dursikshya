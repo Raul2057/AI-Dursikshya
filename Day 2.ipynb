{
 "cells": [
  {
   "cell_type": "markdown",
   "id": "0f639517-a15a-4c30-9a6c-37245776162e",
   "metadata": {},
   "source": [
    "# Common String Operations"
   ]
  },
  {
   "cell_type": "markdown",
   "id": "9012e94f-d009-460d-b038-fbd67a6bb2c2",
   "metadata": {},
   "source": [
    "# Slicing in string"
   ]
  },
  {
   "cell_type": "markdown",
   "id": "581ba22f-fad2-4b97-8eef-20e0cae982bd",
   "metadata": {},
   "source": [
    "## General Syntax of Slicing\n",
    "### sequence[start:stop:step]\n",
    "##### start: The index to begin the slice (inclusive). Defaults to the beginning of the sequence if omitted.\n",
    "##### stop: The index to end the slice (exclusive). Defaults to the end of the sequence if omitted.\n",
    "##### step: The step size, which determines how many elements to skip. Defaults to 1.\n",
    "\n"
   ]
  },
  {
   "cell_type": "markdown",
   "id": "b104f4d3-487a-48a7-a311-b31381ad6ba8",
   "metadata": {},
   "source": [
    "### Example 1: Basic Slicing\n",
    "\n"
   ]
  },
  {
   "cell_type": "code",
   "execution_count": 1,
   "id": "36e234c4-a259-4552-bf1a-bf356b93baf0",
   "metadata": {},
   "outputs": [
    {
     "name": "stdout",
     "output_type": "stream",
     "text": [
      "[1, 2, 3]\n"
     ]
    }
   ],
   "source": [
    "# A list of numbers  omitting step\n",
    "numbers = [0, 1, 2, 3, 4, 5]\n",
    "print(numbers[1:4])  # Output: [1, 2, 3]\n"
   ]
  },
  {
   "cell_type": "markdown",
   "id": "43b6b7d9-8bda-47c7-a000-5689a8436774",
   "metadata": {},
   "source": [
    "### Example 2: Omitting start or stop"
   ]
  },
  {
   "cell_type": "code",
   "execution_count": null,
   "id": "101e8535-2e0a-4af4-a82d-bf95b290e8d8",
   "metadata": {},
   "outputs": [],
   "source": [
    "# Omitting start\n",
    "numbers = [0, 1, 2, 3, 4, 5]\n",
    "print(numbers[:3])  # Output: [0, 1, 2]\n",
    "\n",
    "# Omitting stop\n",
    "print(numbers[2:])  # Output: [2, 3, 4, 5]"
   ]
  },
  {
   "cell_type": "markdown",
   "id": "e5bc302c-a837-4c28-b4c3-943bb8b3a075",
   "metadata": {},
   "source": [
    "### Example 3: Using step\n",
    "\n",
    "\n"
   ]
  },
  {
   "cell_type": "code",
   "execution_count": null,
   "id": "e7153ae6-9da3-460a-b83e-aa34f0049370",
   "metadata": {},
   "outputs": [],
   "source": [
    "numbers = [0, 1, 2, 3, 4, 5]\n",
    "# Every second element\n",
    "print(numbers[::2])  # Output: [0, 2, 4]\n",
    "\n",
    "print(numbers[-2:-4:-1])\n",
    "\n",
    "\n",
    "# Negative step (reverse the list)\n",
    "print(numbers[::-1])  # Output: [5, 4, 3, 2, 1, 0]\n"
   ]
  },
  {
   "cell_type": "markdown",
   "id": "f2c3d539-662b-4950-b7a7-d55125ebd8c9",
   "metadata": {},
   "source": [
    "## Slicing in  Strings\n",
    "Strings are immutable, but slicing allows you to extract substrings."
   ]
  },
  {
   "cell_type": "code",
   "execution_count": null,
   "id": "4cb9ee52-f129-430e-b852-0e40f07edb36",
   "metadata": {},
   "outputs": [],
   "source": [
    "text = \"Python\"\n",
    "print(text[0:3])   # Output: \"Pyt\"\n",
    "print(text[::-1])  # Output: \"nohtyP\"\n"
   ]
  },
  {
   "cell_type": "markdown",
   "id": "494805eb-a354-4342-b13a-56226aa0a84c",
   "metadata": {},
   "source": [
    "## Example 1: Negative Indices\n",
    "Negative indices count from the end of the sequence.\n"
   ]
  },
  {
   "cell_type": "code",
   "execution_count": null,
   "id": "3cb2c690-95df-466b-9c83-13d1fdbdf45c",
   "metadata": {},
   "outputs": [],
   "source": [
    "numbers = [0, 1, 2, 3, 4, 5]\n",
    "print(numbers[-4:-1])  # Output: [2, 3, 4]\n"
   ]
  },
  {
   "cell_type": "code",
   "execution_count": null,
   "id": "f80737de-0a2b-447b-9102-255d6792a6bf",
   "metadata": {},
   "outputs": [],
   "source": []
  },
  {
   "cell_type": "markdown",
   "id": "2efb6bad-6998-4a32-8271-005f70d4bb32",
   "metadata": {},
   "source": [
    "# [::]\n",
    "## Example 1: Entire Sequence\n",
    "\n"
   ]
  },
  {
   "cell_type": "code",
   "execution_count": null,
   "id": "46a81647-4bef-4be5-9078-2cea58a84c72",
   "metadata": {},
   "outputs": [],
   "source": [
    "lst = [0, 1, 2, 3, 4]\n",
    "print(lst[::])  # Output: [0, 1, 2, 3, 4]\n",
    "\n"
   ]
  },
  {
   "cell_type": "markdown",
   "id": "7fae252b-3d8f-49f5-9586-b83aff4c9fd9",
   "metadata": {},
   "source": [
    "### Example 2: Reverse  Sequence\n",
    "\n"
   ]
  },
  {
   "cell_type": "code",
   "execution_count": null,
   "id": "921eaa42-0391-4f08-8b76-4df570dd88ab",
   "metadata": {},
   "outputs": [],
   "source": [
    "string = \"hello\"\n",
    "print(string[::-1])  # Output: \"olleh\""
   ]
  },
  {
   "cell_type": "markdown",
   "id": "b07933de-7511-4b4f-9e16-76075ffed46e",
   "metadata": {},
   "source": [
    "### Example 3: Skip Elements"
   ]
  },
  {
   "cell_type": "code",
   "execution_count": null,
   "id": "3051980c-ce04-42e7-b085-46c1b0bf18ff",
   "metadata": {},
   "outputs": [],
   "source": [
    "lst = [0, 1, 2, 3, 4, 5]\n",
    "print(lst[::2])  # Output: [0, 2, 4]\n"
   ]
  },
  {
   "cell_type": "markdown",
   "id": "d2a89d27-6701-4d99-a1ea-94309fd9fb23",
   "metadata": {},
   "source": [
    "### Example 4: Start and Step"
   ]
  },
  {
   "cell_type": "code",
   "execution_count": null,
   "id": "73c5f26b",
   "metadata": {},
   "outputs": [],
   "source": [
    "lst = [0, 1, 2, 3, 4, 5]\n",
    "print(lst[1::2])  # Output: [1, 3, 5]\n"
   ]
  },
  {
   "cell_type": "code",
   "execution_count": null,
   "id": "495628f5-61e2-4967-b336-4ed139cd0662",
   "metadata": {},
   "outputs": [],
   "source": [
    "lst = [0, 1, 2, 3, 4, 5]\n",
    "print(lst[1:-1:2])  # Output: [1, 3, 5]\n"
   ]
  },
  {
   "cell_type": "code",
   "execution_count": null,
   "id": "68bb1b55-9007-402c-bd11-e203e02f1c86",
   "metadata": {},
   "outputs": [],
   "source": []
  },
  {
   "cell_type": "code",
   "execution_count": null,
   "id": "8f5db98f-778d-448c-a04f-096ab41097a9",
   "metadata": {},
   "outputs": [],
   "source": [
    "a = \"yellow\""
   ]
  },
  {
   "cell_type": "code",
   "execution_count": null,
   "id": "45392ea4-a6a6-46a9-9b29-3a93c309b62e",
   "metadata": {},
   "outputs": [],
   "source": [
    "print(a[1:5])"
   ]
  },
  {
   "cell_type": "code",
   "execution_count": null,
   "id": "5664cd5f",
   "metadata": {},
   "outputs": [],
   "source": [
    "a[1:-10:1]"
   ]
  },
  {
   "cell_type": "markdown",
   "id": "f20265df-0d66-4d72-a7e3-1cf2d32aa268",
   "metadata": {},
   "source": [
    "# string manupulation"
   ]
  },
  {
   "cell_type": "markdown",
   "id": "a31ab4de",
   "metadata": {},
   "source": [
    "**The \"in\" syntax**"
   ]
  },
  {
   "cell_type": "code",
   "execution_count": 3,
   "id": "fdd087bf",
   "metadata": {},
   "outputs": [],
   "source": [
    "sentence = \"I don't love those who don't love Python\""
   ]
  },
  {
   "cell_type": "code",
   "execution_count": 4,
   "id": "6d1d1f8d",
   "metadata": {},
   "outputs": [
    {
     "name": "stdout",
     "output_type": "stream",
     "text": [
      "True\n"
     ]
    }
   ],
   "source": [
    "test=\"do\" in sentence #membership testing\n",
    "print(test)"
   ]
  },
  {
   "cell_type": "code",
   "execution_count": 7,
   "id": "2ad2d967-cb9f-428b-a060-d7c638f46f58",
   "metadata": {},
   "outputs": [
    {
     "name": "stdout",
     "output_type": "stream",
     "text": [
      "True\n"
     ]
    }
   ],
   "source": [
    "print(\"Pyht\" in \"Python Pyht\")  #False\n"
   ]
  },
  {
   "cell_type": "code",
   "execution_count": 6,
   "id": "25611db2-f497-4973-9860-37da77a19617",
   "metadata": {},
   "outputs": [
    {
     "name": "stdout",
     "output_type": "stream",
     "text": [
      "True\n"
     ]
    }
   ],
   "source": [
    "print(\"Java\"  not in \"Python\")"
   ]
  },
  {
   "cell_type": "markdown",
   "id": "eaf11e15-1311-45e8-a762-b7ab9a196dfc",
   "metadata": {},
   "source": [
    "# Repetation in string"
   ]
  },
  {
   "cell_type": "code",
   "execution_count": 8,
   "id": "fefcef95-878e-4466-954b-954b50a1a3e6",
   "metadata": {
    "scrolled": true
   },
   "outputs": [
    {
     "name": "stdout",
     "output_type": "stream",
     "text": [
      "namaskaram namaskaram namaskaram namaskaram namaskaram namaskaram namaskaram namaskaram namaskaram namaskaram namaskaram namaskaram namaskaram namaskaram namaskaram namaskaram namaskaram namaskaram namaskaram namaskaram namaskaram namaskaram namaskaram namaskaram namaskaram namaskaram namaskaram namaskaram namaskaram namaskaram namaskaram namaskaram namaskaram namaskaram namaskaram namaskaram namaskaram namaskaram namaskaram namaskaram namaskaram namaskaram namaskaram namaskaram namaskaram namaskaram namaskaram namaskaram namaskaram namaskaram \n"
     ]
    }
   ],
   "source": [
    "print(\"namaskaram \"*50)"
   ]
  },
  {
   "cell_type": "markdown",
   "id": "5dbf0ba1",
   "metadata": {},
   "source": [
    "## Iterate string"
   ]
  },
  {
   "cell_type": "code",
   "execution_count": 9,
   "id": "d0802e8f",
   "metadata": {},
   "outputs": [],
   "source": [
    "num1=\"122\"\n",
    "word1 = \"Kathmandu\" #iterable\n",
    "word2= \"biratnagar\""
   ]
  },
  {
   "cell_type": "code",
   "execution_count": 10,
   "id": "21c502dc",
   "metadata": {},
   "outputs": [
    {
     "ename": "TypeError",
     "evalue": "'str' object does not support item assignment",
     "output_type": "error",
     "traceback": [
      "\u001b[1;31m---------------------------------------------------------------------------\u001b[0m",
      "\u001b[1;31mTypeError\u001b[0m                                 Traceback (most recent call last)",
      "Cell \u001b[1;32mIn[10], line 1\u001b[0m\n\u001b[1;32m----> 1\u001b[0m num1[\u001b[38;5;241m1\u001b[39m]\u001b[38;5;241m=\u001b[39m\u001b[38;5;124m\"\u001b[39m\u001b[38;5;124m6\u001b[39m\u001b[38;5;124m\"\u001b[39m\n",
      "\u001b[1;31mTypeError\u001b[0m: 'str' object does not support item assignment"
     ]
    }
   ],
   "source": [
    "num1[1]=\"6\""
   ]
  },
  {
   "cell_type": "code",
   "execution_count": null,
   "id": "6085112b-6f09-494e-8ff2-55c642b59844",
   "metadata": {},
   "outputs": [],
   "source": [
    "word1[5]=\"b\""
   ]
  },
  {
   "cell_type": "code",
   "execution_count": null,
   "id": "33c520c7",
   "metadata": {},
   "outputs": [],
   "source": [
    "for i in word1:\n",
    "    print(i) #variable"
   ]
  },
  {
   "cell_type": "code",
   "execution_count": null,
   "id": "3b5139da-6365-41bd-a787-5376b44663c5",
   "metadata": {},
   "outputs": [],
   "source": [
    "print(\"k\")\n",
    "print(\"a\")"
   ]
  },
  {
   "cell_type": "code",
   "execution_count": null,
   "id": "1bd4321f-f4df-433a-bcb9-606984d1d1ee",
   "metadata": {},
   "outputs": [],
   "source": []
  },
  {
   "cell_type": "code",
   "execution_count": null,
   "id": "be7fdebe",
   "metadata": {},
   "outputs": [],
   "source": [
    "word = \"Kathmandu\"\n",
    "print(word)"
   ]
  },
  {
   "cell_type": "code",
   "execution_count": null,
   "id": "11deae1a",
   "metadata": {},
   "outputs": [],
   "source": [
    "word = \"Kathmandu\"\n",
    "count=0  # garbage value naawos bhanera\n",
    "for character in word:\n",
    "    if character=='a':\n",
    "        count=count+1\n",
    "print(count)"
   ]
  },
  {
   "cell_type": "code",
   "execution_count": null,
   "id": "a429d6af",
   "metadata": {},
   "outputs": [],
   "source": []
  },
  {
   "cell_type": "markdown",
   "id": "a64f8a47",
   "metadata": {},
   "source": [
    "**String upper()**"
   ]
  },
  {
   "cell_type": "code",
   "execution_count": null,
   "id": "11b23da7",
   "metadata": {},
   "outputs": [],
   "source": [
    "sentence = \"This is wonderful\"\n",
    "sentence.upper()"
   ]
  },
  {
   "cell_type": "markdown",
   "id": "545725cf",
   "metadata": {},
   "source": [
    "**String lower()**"
   ]
  },
  {
   "cell_type": "code",
   "execution_count": null,
   "id": "ec8d9bf3",
   "metadata": {},
   "outputs": [],
   "source": [
    "sentence = \"This is KU\"\n",
    "sentence.lower()"
   ]
  },
  {
   "cell_type": "code",
   "execution_count": null,
   "id": "63a08141",
   "metadata": {},
   "outputs": [],
   "source": [
    "sentence = \"this is KU\"\n",
    "print(sentence.capitalize())"
   ]
  },
  {
   "cell_type": "code",
   "execution_count": null,
   "id": "708af3fd-72e1-4f9c-8379-8d5a62e2cfb1",
   "metadata": {},
   "outputs": [],
   "source": [
    "sentence = \"this is KU\"\n",
    "sentence.title()"
   ]
  },
  {
   "cell_type": "code",
   "execution_count": null,
   "id": "219e38c0",
   "metadata": {},
   "outputs": [],
   "source": [
    "\n",
    "dir(sentence)"
   ]
  },
  {
   "cell_type": "markdown",
   "id": "1e9ed530",
   "metadata": {},
   "source": [
    "**String replace**"
   ]
  },
  {
   "cell_type": "code",
   "execution_count": null,
   "id": "21704ac9",
   "metadata": {},
   "outputs": [],
   "source": []
  },
  {
   "cell_type": "code",
   "execution_count": null,
   "id": "02dfd0b3",
   "metadata": {},
   "outputs": [],
   "source": [
    "fruit = \"strawberry\"\n",
    "replaced_fruit=fruit.replace('r','#')\n",
    "print(replaced_fruit)"
   ]
  },
  {
   "cell_type": "code",
   "execution_count": null,
   "id": "1adfbf8e",
   "metadata": {},
   "outputs": [],
   "source": [
    "print(replaced_fruit)"
   ]
  },
  {
   "cell_type": "code",
   "execution_count": null,
   "id": "33340a50-d250-467d-8ed2-6a6c5b00c291",
   "metadata": {},
   "outputs": [],
   "source": [
    "changed_fruit"
   ]
  },
  {
   "cell_type": "markdown",
   "id": "69fa3671",
   "metadata": {},
   "source": [
    "**Escaping Character**"
   ]
  },
  {
   "cell_type": "markdown",
   "id": "77236c22",
   "metadata": {},
   "source": []
  },
  {
   "cell_type": "markdown",
   "id": "5b7eddae",
   "metadata": {},
   "source": [
    "She said \"Never let go\""
   ]
  },
  {
   "cell_type": "code",
   "execution_count": null,
   "id": "38b3db3c",
   "metadata": {},
   "outputs": [],
   "source": []
  },
  {
   "cell_type": "code",
   "execution_count": null,
   "id": "f016169b",
   "metadata": {},
   "outputs": [],
   "source": [
    "text = 'She said \"Never let me down\"'\n",
    "print(text)"
   ]
  },
  {
   "cell_type": "code",
   "execution_count": null,
   "id": "7de775d5",
   "metadata": {},
   "outputs": [],
   "source": []
  },
  {
   "cell_type": "code",
   "execution_count": null,
   "id": "7c288650",
   "metadata": {},
   "outputs": [],
   "source": []
  },
  {
   "cell_type": "code",
   "execution_count": null,
   "id": "ab4662c4",
   "metadata": {},
   "outputs": [],
   "source": [
    "text = \"She said \\\"Never let go\\\"\"\n",
    "text"
   ]
  },
  {
   "cell_type": "markdown",
   "id": "90ee6588",
   "metadata": {},
   "source": [
    "**String Count**"
   ]
  },
  {
   "cell_type": "markdown",
   "id": "ed8651dd",
   "metadata": {},
   "source": [
    "Count the total number of \"a\" in Kathmandu"
   ]
  },
  {
   "cell_type": "code",
   "execution_count": null,
   "id": "8b391fc8",
   "metadata": {},
   "outputs": [],
   "source": []
  },
  {
   "cell_type": "code",
   "execution_count": 1,
   "id": "71d9f568",
   "metadata": {},
   "outputs": [
    {
     "data": {
      "text/plain": [
       "2"
      ]
     },
     "execution_count": 1,
     "metadata": {},
     "output_type": "execute_result"
    }
   ],
   "source": [
    "name = \"Kathmandu\"\n",
    "name.count(\"a\")"
   ]
  },
  {
   "cell_type": "markdown",
   "id": "d3ff4a91-e9de-4e89-a669-86cbc7a364bb",
   "metadata": {},
   "source": []
  },
  {
   "cell_type": "code",
   "execution_count": null,
   "id": "97f0057d-af78-40c6-8702-ae1f5905cf13",
   "metadata": {},
   "outputs": [],
   "source": []
  },
  {
   "cell_type": "markdown",
   "id": "0684228e",
   "metadata": {},
   "source": [
    "### The `f-string`"
   ]
  },
  {
   "cell_type": "code",
   "execution_count": null,
   "id": "76bead99",
   "metadata": {},
   "outputs": [],
   "source": []
  },
  {
   "cell_type": "code",
   "execution_count": null,
   "id": "4ad998be",
   "metadata": {},
   "outputs": [],
   "source": [
    "name = \"niraj\"\n",
    "num1 = 100\n",
    "num2 = 200\n",
    "\n",
    "print(f\"my name is {name}  and i stole money of sum {num1+num2} \")"
   ]
  },
  {
   "cell_type": "code",
   "execution_count": null,
   "id": "cfa6e827",
   "metadata": {},
   "outputs": [],
   "source": [
    "compl=complex(4,5)\n",
    "strin=\"haha\"\n",
    "num=12\n",
    "numfloat=12.22\n",
    "\n"
   ]
  },
  {
   "cell_type": "code",
   "execution_count": null,
   "id": "8ccc454b",
   "metadata": {},
   "outputs": [],
   "source": [
    "print(type(compl))\n",
    "print(type(strin))\n",
    "print(type(num))\n",
    "print(type(numfloat))"
   ]
  },
  {
   "cell_type": "code",
   "execution_count": null,
   "id": "5255b75a",
   "metadata": {},
   "outputs": [],
   "source": [
    "name = 'dursikshya'\n",
    "\n",
    "print(f\"The name of my institute is {name}\")"
   ]
  },
  {
   "cell_type": "markdown",
   "id": "d7592594",
   "metadata": {},
   "source": [
    "# Python Input"
   ]
  },
  {
   "cell_type": "code",
   "execution_count": 11,
   "id": "4cd7a974",
   "metadata": {},
   "outputs": [
    {
     "name": "stdin",
     "output_type": "stream",
     "text": [
      "Enter your name please rahul\n"
     ]
    },
    {
     "name": "stdout",
     "output_type": "stream",
     "text": [
      "My name is rahul\n"
     ]
    }
   ],
   "source": [
    "my_name = input(\"Enter your name please\")\n",
    "\n",
    "print(f\"My name is {my_name}\")"
   ]
  },
  {
   "cell_type": "code",
   "execution_count": null,
   "id": "c751ac1d",
   "metadata": {},
   "outputs": [
    {
     "name": "stdout",
     "output_type": "stream",
     "text": [
      "30\n",
      "The sum is 30\n"
     ]
    }
   ],
   "source": [
    "num1 = int(input(\"Enter first number\"))\n",
    "num2 = int(input(\"Enter second number\"))\n",
    "result=num1+num2\n",
    "print(result)\n",
    "print(f\"The sum is {result}\")\n"
   ]
  },
  {
   "cell_type": "markdown",
   "id": "35b9ab05",
   "metadata": {},
   "source": [
    "Use `fstring` to take your name as input and print the message  \n",
    "`\"My name is _____\"`"
   ]
  },
  {
   "cell_type": "code",
   "execution_count": null,
   "id": "51bb497c-1de7-4c3f-9874-fad04360d881",
   "metadata": {},
   "outputs": [
    {
     "name": "stdout",
     "output_type": "stream",
     "text": [
      "my name is bikash subedi\n"
     ]
    }
   ],
   "source": [
    "name=input(\"enter your name\")\n",
    "print(f\"my name is {name}\")"
   ]
  },
  {
   "cell_type": "code",
   "execution_count": null,
   "id": "2dfb2c1b",
   "metadata": {},
   "outputs": [
    {
     "name": "stdout",
     "output_type": "stream",
     "text": [
      "The sum is 50\n"
     ]
    }
   ],
   "source": [
    "num1 = int(input(\"Enter a number\"))   #also remove int and try\n",
    "num2 = int(input(\"Enter another number\"))  #also remove int and try\n",
    "\n",
    "print(f\"The sum is {num1+num2}\")"
   ]
  },
  {
   "cell_type": "code",
   "execution_count": null,
   "id": "9f7b757d",
   "metadata": {},
   "outputs": [],
   "source": [
    "type(num1)"
   ]
  },
  {
   "cell_type": "markdown",
   "id": "17156a08",
   "metadata": {},
   "source": [
    "**What about a number?**"
   ]
  },
  {
   "cell_type": "code",
   "execution_count": null,
   "id": "b046f3cb-4673-44ab-8cc2-ebb7e3616bf1",
   "metadata": {},
   "outputs": [
    {
     "name": "stdout",
     "output_type": "stream",
     "text": [
      "110\n"
     ]
    }
   ],
   "source": [
    "my_number = int(input(\"Enter a number\"))\n",
    "print(my_number+55)"
   ]
  },
  {
   "cell_type": "code",
   "execution_count": null,
   "id": "635c485c",
   "metadata": {},
   "outputs": [],
   "source": [
    "print(f\"The number you just input is {my_number}\")"
   ]
  },
  {
   "cell_type": "markdown",
   "id": "0e8de2e0",
   "metadata": {},
   "source": [
    "### Conditional if...else...elif\n",
    "\n",
    "**Question:** What is the criteria for any number to be odd or even?"
   ]
  },
  {
   "cell_type": "code",
   "execution_count": null,
   "id": "acef0af8",
   "metadata": {},
   "outputs": [],
   "source": [
    "number = int(input(\"Enter a number in integer\"))"
   ]
  },
  {
   "cell_type": "code",
   "execution_count": null,
   "id": "545b0cd8",
   "metadata": {},
   "outputs": [],
   "source": [
    "number = int(input(\"Enter a number in integer\"))\n",
    "if number%2==0:\n",
    "    print(f\"This number {number}  is even\")\n",
    "else:\n",
    "    print(f\"This number {number} is  odd\")"
   ]
  },
  {
   "cell_type": "code",
   "execution_count": null,
   "id": "a4a0697d",
   "metadata": {},
   "outputs": [],
   "source": [
    "number = int(input(\"Enter a number in integer\"))\n",
    "if number%3==0:\n",
    "    print(f\"This number {number}  is divisible by three and is {number//3} times of it \")\n",
    "else:\n",
    "    print(f\"This number {number} is  not divisible by 3\")"
   ]
  },
  {
   "cell_type": "code",
   "execution_count": null,
   "id": "7bc567f3",
   "metadata": {},
   "outputs": [],
   "source": []
  },
  {
   "cell_type": "code",
   "execution_count": null,
   "id": "7860bd74",
   "metadata": {},
   "outputs": [],
   "source": [
    "a = 51\n",
    " \n",
    "if a % 2 == 0:\n",
    "    print(\"It is even\")\n",
    "else:\n",
    "    print(\"It is odd\")"
   ]
  },
  {
   "cell_type": "markdown",
   "id": "681f57b7",
   "metadata": {},
   "source": [
    "The `elif` condition"
   ]
  },
  {
   "cell_type": "code",
   "execution_count": null,
   "id": "23f9fb87",
   "metadata": {},
   "outputs": [],
   "source": [
    "num = int(input(\"enter valid number\"))\n",
    "\n",
    "if num > 0:\n",
    "    print(\"Positive number\")\n",
    "elif num == 0:\n",
    "    print(\"Zero\")\n",
    "else:\n",
    "    print(\"Negative number\") "
   ]
  },
  {
   "cell_type": "markdown",
   "id": "673ab46f",
   "metadata": {},
   "source": [
    "**Discuss grading condition problem**  \n",
    "Ask the user to input `percentage` and then display the messages\n",
    "- 90-100 => `Your Grade is A+`\n",
    "- 80-90 =>\t`Your Grade is A`\n",
    "- 70-80 =>\t`Your Grade is B+`\n",
    "- 60-70 =>\t`Your Grade is B`\n",
    "- 0-60 =>\t`Work harder`"
   ]
  },
  {
   "cell_type": "code",
   "execution_count": null,
   "id": "eb163836",
   "metadata": {},
   "outputs": [
    {
     "name": "stdout",
     "output_type": "stream",
     "text": [
      "B+\n"
     ]
    }
   ],
   "source": [
    "percentage = int(input(\"Enter your percentage\"))\n",
    "\n",
    "if percentage >=90 and percentage<=100:\n",
    "    print(\"Grade is A+\")\n",
    "elif percentage>=80 and percentage<90:\n",
    "    print(\"your grade is A\")\n",
    "elif percentage>=70 and percentage<80:\n",
    "    print(\"B+\")\n",
    "elif percentage>=60 and percentage<70:\n",
    "    print(\"B\")\n",
    "elif percentage>=0 and percentage<60:\n",
    "    print(\"Work Harder\")\n",
    "else:\n",
    "    print(\"invalid input\")"
   ]
  },
  {
   "cell_type": "code",
   "execution_count": null,
   "id": "8a871be7",
   "metadata": {},
   "outputs": [],
   "source": []
  },
  {
   "cell_type": "code",
   "execution_count": null,
   "id": "4e421ef1",
   "metadata": {},
   "outputs": [],
   "source": []
  },
  {
   "cell_type": "code",
   "execution_count": null,
   "id": "1711311f",
   "metadata": {},
   "outputs": [],
   "source": []
  },
  {
   "cell_type": "markdown",
   "id": "e7dec65d",
   "metadata": {},
   "source": [
    "### For loops"
   ]
  },
  {
   "cell_type": "markdown",
   "id": "cf29dc1b-8e35-4d3e-abfb-71e8ac03461b",
   "metadata": {},
   "source": [
    "### Syntax\n",
    "\n"
   ]
  },
  {
   "cell_type": "code",
   "execution_count": null,
   "id": "e9314ba8-1d1f-4b36-82ad-4d6fff979581",
   "metadata": {},
   "outputs": [],
   "source": [
    "   for variable in sequence:\n",
    "        # code block"
   ]
  },
  {
   "cell_type": "markdown",
   "id": "1acb70dd-3dbb-4786-9cbe-f0fa6d9112cd",
   "metadata": {},
   "source": [
    "###"
   ]
  },
  {
   "cell_type": "markdown",
   "id": "878a5c4d-c5e3-4963-8855-03e57fa95a87",
   "metadata": {},
   "source": [
    "### "
   ]
  },
  {
   "cell_type": "markdown",
   "id": "8e950147",
   "metadata": {},
   "source": [
    "Challange: Create a variable named `country`  \n",
    "Store a string value `United States of America`  \n",
    "`print` each characters using `for` loop  "
   ]
  },
  {
   "cell_type": "code",
   "execution_count": 12,
   "id": "766a82df",
   "metadata": {},
   "outputs": [
    {
     "name": "stdout",
     "output_type": "stream",
     "text": [
      "U\n",
      "n\n",
      "i\n",
      "t\n",
      "e\n",
      "d\n",
      " \n",
      "S\n",
      "t\n",
      "a\n",
      "t\n",
      "e\n",
      "s\n",
      " \n",
      "o\n",
      "f\n",
      " \n",
      "A\n",
      "m\n",
      "e\n",
      "r\n",
      "i\n",
      "c\n",
      "a\n"
     ]
    }
   ],
   "source": [
    "word = \"United States of America\"\n",
    "for each_character_of_USA in word:\n",
    "    print(each_character_of_USA)"
   ]
  },
  {
   "cell_type": "markdown",
   "id": "bb4dbae6",
   "metadata": {},
   "source": [
    "Print all the even numbers from `1` to `10`"
   ]
  },
  {
   "cell_type": "code",
   "execution_count": null,
   "id": "af97bc72",
   "metadata": {},
   "outputs": [],
   "source": [
    "for i in range(1,11):\n",
    "    print(i)"
   ]
  },
  {
   "cell_type": "code",
   "execution_count": null,
   "id": "a78bae6f",
   "metadata": {},
   "outputs": [],
   "source": [
    "for i in range(1,11):\n",
    "    if i%2 ==0:\n",
    "        print(f\"{i} is even\")\n",
    "    else:\n",
    "        print(f\"{i} is odd\")\n",
    "        "
   ]
  },
  {
   "cell_type": "code",
   "execution_count": null,
   "id": "8f730925-da98-4021-8e98-532f5435bffa",
   "metadata": {},
   "outputs": [],
   "source": [
    "for i in range(1,11):\n",
    "    if i%2 !=0:\n",
    "        print(i) #odd"
   ]
  },
  {
   "cell_type": "markdown",
   "id": "39ea4358",
   "metadata": {},
   "source": [
    "**Can you print odd numbers between 1 to 10?**"
   ]
  },
  {
   "cell_type": "code",
   "execution_count": null,
   "id": "357b46e7",
   "metadata": {},
   "outputs": [],
   "source": [
    "for i in range(1,10):\n",
    "    if i%2==1:\n",
    "        print(i)"
   ]
  },
  {
   "cell_type": "code",
   "execution_count": null,
   "id": "614948f5",
   "metadata": {},
   "outputs": [],
   "source": []
  },
  {
   "cell_type": "code",
   "execution_count": null,
   "id": "aff1bde9",
   "metadata": {},
   "outputs": [],
   "source": [
    "for number in range(1,11):\n",
    "    if number%2==1:\n",
    "        print(number)"
   ]
  },
  {
   "cell_type": "markdown",
   "id": "5004b7d4",
   "metadata": {},
   "source": [
    "**Can you find the sum of numbers from 1 to 100?**"
   ]
  },
  {
   "cell_type": "code",
   "execution_count": null,
   "id": "1a6a4124",
   "metadata": {},
   "outputs": [],
   "source": [
    "sum=0  #garbage\n",
    "for number in range(1,11):\n",
    "    sum=sum+number\n",
    "print(sum)"
   ]
  },
  {
   "cell_type": "code",
   "execution_count": null,
   "id": "4c80ee81-3536-4fcc-849e-6e0308c3cd7f",
   "metadata": {},
   "outputs": [],
   "source": [
    "multiplication=1\n",
    "for number in range(1,6):\n",
    "    multiplication*=number\n",
    "print(multiplication)   \n"
   ]
  },
  {
   "cell_type": "code",
   "execution_count": null,
   "id": "1102b4e0-ffde-4a8e-81e0-ec19775e15b0",
   "metadata": {},
   "outputs": [
    {
     "name": "stdout",
     "output_type": "stream",
     "text": [
      "3628800\n"
     ]
    }
   ],
   "source": [
    "mul=1\n",
    "number=int(input(\"enter a number upto which multiplication is to be carried out\"))\n",
    "for i in range(1,number+1):\n",
    "    mul*=i\n",
    "print(mul)    "
   ]
  },
  {
   "cell_type": "markdown",
   "id": "7d47f60a",
   "metadata": {},
   "source": [
    "**Can you find the sum of odd numbers from 1 to 100?**"
   ]
  },
  {
   "cell_type": "code",
   "execution_count": null,
   "id": "9520869e",
   "metadata": {},
   "outputs": [],
   "source": [
    "sum=0\n",
    "for i in range(1,11):\n",
    "    if i%2==1:\n",
    "        sum=sum+i\n",
    "    print(sum)"
   ]
  },
  {
   "cell_type": "markdown",
   "id": "c5073a8e",
   "metadata": {},
   "source": [
    "Printing the Fibonacci sequence upto 10th term"
   ]
  },
  {
   "cell_type": "markdown",
   "id": "a1eafb27",
   "metadata": {},
   "source": [
    "1,1,2,3,5,8..."
   ]
  },
  {
   "cell_type": "code",
   "execution_count": null,
   "id": "a7607586",
   "metadata": {},
   "outputs": [],
   "source": [
    "a=1\n",
    "b=1\n",
    "print(a)\n",
    "print(b)\n",
    "for fibonacci_element in range(1,9):\n",
    "    c=a+b\n",
    "    a=b\n",
    "    b=c\n",
    "    print(c)"
   ]
  },
  {
   "cell_type": "markdown",
   "id": "9d754efd",
   "metadata": {},
   "source": [
    "## While loops\n",
    "`A while loop in Python repeatedly executes a block of code as long as a specified condition evaluates to True`"
   ]
  },
  {
   "cell_type": "markdown",
   "id": "7c6bca35-12ab-4fee-91d0-e7cd585f7df9",
   "metadata": {},
   "source": [
    "### Syntax"
   ]
  },
  {
   "cell_type": "code",
   "execution_count": null,
   "id": "9ed846e6-438a-418e-8160-4a8d329192e5",
   "metadata": {},
   "outputs": [],
   "source": [
    "while condition:\n",
    "    # Code block to be executed\n"
   ]
  },
  {
   "cell_type": "code",
   "execution_count": null,
   "id": "0226a00d",
   "metadata": {},
   "outputs": [],
   "source": [
    "i = 1\n",
    "while (i<=10):\n",
    "    print(i)\n",
    "    i=i+1"
   ]
  },
  {
   "cell_type": "code",
   "execution_count": null,
   "id": "a9feb769",
   "metadata": {},
   "outputs": [],
   "source": []
  },
  {
   "cell_type": "markdown",
   "id": "80867e57",
   "metadata": {},
   "source": [
    "**Can you find the sum of numbers from 1 to 100 using `while` loop?**"
   ]
  },
  {
   "cell_type": "code",
   "execution_count": null,
   "id": "e702f4ac",
   "metadata": {},
   "outputs": [],
   "source": []
  },
  {
   "cell_type": "code",
   "execution_count": null,
   "id": "8d60f231",
   "metadata": {},
   "outputs": [],
   "source": [
    "i=1\n",
    "sum=0\n",
    "while(i<=10):\n",
    "    sum+=i\n",
    "    i+=1\n",
    "print(sum)"
   ]
  },
  {
   "cell_type": "markdown",
   "id": "b21bc475",
   "metadata": {},
   "source": [
    "**Can you print even numbers from 1 to 100 using `while` loop?**"
   ]
  },
  {
   "cell_type": "code",
   "execution_count": null,
   "id": "406dc03e",
   "metadata": {},
   "outputs": [],
   "source": [
    "i=2\n",
    "while i<=100:\n",
    "    print(i)\n",
    "    i+=2"
   ]
  },
  {
   "cell_type": "code",
   "execution_count": null,
   "id": "d56744d1",
   "metadata": {},
   "outputs": [],
   "source": []
  },
  {
   "cell_type": "code",
   "execution_count": null,
   "id": "e07e42b5",
   "metadata": {},
   "outputs": [],
   "source": [
    "i=1\n",
    "while (i<=100):\n",
    "    if i%2==0:\n",
    "        print(i)\n",
    "    i+=1"
   ]
  },
  {
   "cell_type": "code",
   "execution_count": null,
   "id": "682d1b8e",
   "metadata": {},
   "outputs": [],
   "source": [
    "True"
   ]
  },
  {
   "cell_type": "code",
   "execution_count": null,
   "id": "8f9aac45-c5ea-4cf5-ba60-3c638873decd",
   "metadata": {},
   "outputs": [],
   "source": [
    "while True:\n",
    "    print(\"infinty loop\")"
   ]
  },
  {
   "cell_type": "markdown",
   "id": "6c306d5f",
   "metadata": {},
   "source": [
    "### Two exercises homeworks\n",
    "#### Compound interest calculation\n",
    "https://www.thecalculatorsite.com/finance/calculators/compoundinterestcalculator.php"
   ]
  },
  {
   "cell_type": "markdown",
   "id": "476a8a0f-ab55-4401-bb0a-f6acfe51dd15",
   "metadata": {},
   "source": [
    "`CAGR (Compound Annual Growth Rate) is a measure of the mean annual growth rate of an investment over a specified time period. `\n",
    "`It is calculated using the formula:`\n",
    "\n"
   ]
  },
  {
   "attachments": {
    "image-2.png": {
     "image/png": "[encoded data removed]"
    }
   },
   "cell_type": "markdown",
   "id": "f226db05",
   "metadata": {},
   "source": [
    "#### CAGR calculation\n",
    "https://www.etmoney.com/tools-and-calculators/cagr-calculator\n",
    "![image-2.png](attachment:image-2.png)"
   ]
  },
  {
   "cell_type": "code",
   "execution_count": null,
   "id": "446f4e71",
   "metadata": {},
   "outputs": [],
   "source": [
    "vf,vb,t = 200000,100000,10\n",
    "(((vf/vb)**(1/t))-1)*100"
   ]
  },
  {
   "cell_type": "markdown",
   "id": "959e9861-f437-4b2b-a339-79880588ba06",
   "metadata": {},
   "source": [
    "# homework\n",
    " \n",
    " Interactive Exercise:\n",
    "Create a mini form that processes a name input:\n",
    "Convert it to uppercase.\n",
    "Remove extra spaces.\n",
    "Replace specific letters (e.g., 'a' with '@')."
   ]
  },
  {
   "cell_type": "code",
   "execution_count": null,
   "id": "e7321873-0887-4ce2-b701-5db71caa4f52",
   "metadata": {},
   "outputs": [],
   "source": []
  }
 ],
 "metadata": {
  "kernelspec": {
   "display_name": "Python 3 (ipykernel)",
   "language": "python",
   "name": "python3"
  },
  "language_info": {
   "codemirror_mode": {
    "name": "ipython",
    "version": 3
   },
   "file_extension": ".py",
   "mimetype": "text/x-python",
   "name": "python",
   "nbconvert_exporter": "python",
   "pygments_lexer": "ipython3",
   "version": "3.13.5"
  }
 },
 "nbformat": 4,
 "nbformat_minor": 5
}
